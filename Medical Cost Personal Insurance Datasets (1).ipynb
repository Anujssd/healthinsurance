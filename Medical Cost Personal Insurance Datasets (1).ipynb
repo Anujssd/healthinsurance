{
 "cells": [
  {
   "cell_type": "code",
   "execution_count": null,
   "id": "ead6dd87",
   "metadata": {},
   "outputs": [],
   "source": [
    "import numpy as np\n",
    "import pandas as pd\n",
    "import matplotlib.pyplot as plt\n",
    "import seaborn as sns\n",
    "import warnings\n",
    "warnings.filterwarnings(\"ignore\")\n",
    "%matplotlib inline"
   ]
  },
  {
   "cell_type": "code",
   "execution_count": null,
   "id": "1b1653e7",
   "metadata": {},
   "outputs": [],
   "source": [
    "#Read the data\n",
    "data=pd.read_csv(\"https://raw.githubusercontent.com/dsrscientist/dataset4/main/medical_cost_insurance.csv\")"
   ]
  },
  {
   "cell_type": "code",
   "execution_count": null,
   "id": "755f1646",
   "metadata": {},
   "outputs": [],
   "source": [
    "#see the data\n",
    "data.head()"
   ]
  },
  {
   "cell_type": "code",
   "execution_count": null,
   "id": "0762b85f",
   "metadata": {},
   "outputs": [],
   "source": [
    "data.info()"
   ]
  },
  {
   "cell_type": "code",
   "execution_count": null,
   "id": "b97e5181",
   "metadata": {},
   "outputs": [],
   "source": [
    "data['sex'].unique()"
   ]
  },
  {
   "cell_type": "code",
   "execution_count": null,
   "id": "fb926c80",
   "metadata": {},
   "outputs": [],
   "source": [
    "#converting catagorial data into numerical data-"
   ]
  },
  {
   "cell_type": "code",
   "execution_count": null,
   "id": "bb1998b7",
   "metadata": {},
   "outputs": [],
   "source": [
    "data['sex']=data['sex'].map({'female':0,'male':1})"
   ]
  },
  {
   "cell_type": "code",
   "execution_count": null,
   "id": "3817c78f",
   "metadata": {},
   "outputs": [],
   "source": [
    "data.head()"
   ]
  },
  {
   "cell_type": "code",
   "execution_count": null,
   "id": "61e82743",
   "metadata": {},
   "outputs": [],
   "source": [
    "data['smoker']=data['smoker'].map({'yes':1,'no':0})"
   ]
  },
  {
   "cell_type": "code",
   "execution_count": null,
   "id": "ff6eb28f",
   "metadata": {},
   "outputs": [],
   "source": [
    "data.head()"
   ]
  },
  {
   "cell_type": "code",
   "execution_count": null,
   "id": "458ad565",
   "metadata": {},
   "outputs": [],
   "source": [
    "data['region'].unique()"
   ]
  },
  {
   "cell_type": "code",
   "execution_count": null,
   "id": "f17d93a2",
   "metadata": {},
   "outputs": [],
   "source": [
    "data['region']=data['region'].map({'southwest':1,'southeast':2,'northwest':3,'northeast':4})"
   ]
  },
  {
   "cell_type": "code",
   "execution_count": null,
   "id": "3a0b0672",
   "metadata": {},
   "outputs": [],
   "source": [
    "data.head()"
   ]
  },
  {
   "cell_type": "code",
   "execution_count": null,
   "id": "32e9981f",
   "metadata": {},
   "outputs": [],
   "source": [
    "data.columns"
   ]
  },
  {
   "cell_type": "code",
   "execution_count": null,
   "id": "74fd6d3a",
   "metadata": {},
   "outputs": [],
   "source": [
    "#storing dependent and independent data-"
   ]
  },
  {
   "cell_type": "code",
   "execution_count": null,
   "id": "c669567d",
   "metadata": {},
   "outputs": [],
   "source": [
    "X=data.drop(['charges'],axis=1)"
   ]
  },
  {
   "cell_type": "code",
   "execution_count": null,
   "id": "a517b152",
   "metadata": {},
   "outputs": [],
   "source": [
    "y=data['charges']"
   ]
  },
  {
   "cell_type": "code",
   "execution_count": null,
   "id": "12c9a889",
   "metadata": {},
   "outputs": [],
   "source": [
    "#train/test split-"
   ]
  },
  {
   "cell_type": "code",
   "execution_count": null,
   "id": "32a15be9",
   "metadata": {},
   "outputs": [],
   "source": [
    "from sklearn.model_selection import train_test_split"
   ]
  },
  {
   "cell_type": "code",
   "execution_count": null,
   "id": "f5f83c63",
   "metadata": {},
   "outputs": [],
   "source": [
    "X_train,X_test,y_train,y_test=train_test_split(X,y,test_size=0.2,random_state=40)"
   ]
  },
  {
   "cell_type": "code",
   "execution_count": null,
   "id": "f0c97adc",
   "metadata": {},
   "outputs": [],
   "source": [
    "y_train"
   ]
  },
  {
   "cell_type": "code",
   "execution_count": null,
   "id": "c183b59e",
   "metadata": {},
   "outputs": [],
   "source": [
    "#import the models-"
   ]
  },
  {
   "cell_type": "code",
   "execution_count": null,
   "id": "a3fee277",
   "metadata": {},
   "outputs": [],
   "source": [
    "from sklearn.linear_model import LinearRegression\n",
    "from sklearn.svm import SVR\n",
    "from sklearn.ensemble import RandomForestRegressor\n",
    "from sklearn.ensemble import GradientBoostingRegressor"
   ]
  },
  {
   "cell_type": "code",
   "execution_count": null,
   "id": "fd0f9f72",
   "metadata": {},
   "outputs": [],
   "source": [
    "#Model training-"
   ]
  },
  {
   "cell_type": "code",
   "execution_count": null,
   "id": "1cc1f110",
   "metadata": {},
   "outputs": [],
   "source": [
    "lr=LinearRegression()\n",
    "lr.fit(X_train,y_train)\n",
    "svm=SVR()\n",
    "svm.fit(X_train,y_train)\n",
    "rfr=RandomForestRegressor()\n",
    "rfr.fit(X_train,y_train)\n",
    "gbr=GradientBoostingRegressor()\n",
    "gbr.fit(X_train,y_train)"
   ]
  },
  {
   "cell_type": "code",
   "execution_count": null,
   "id": "dd45e3a4",
   "metadata": {},
   "outputs": [],
   "source": [
    "#prediction on test data-"
   ]
  },
  {
   "cell_type": "code",
   "execution_count": null,
   "id": "14789434",
   "metadata": {},
   "outputs": [],
   "source": [
    "y_pred1=lr.predict(X_test)\n",
    "y_pred2=svm.predict(X_test)\n",
    "y_pred3=rfr.predict(X_test)\n",
    "y_pred4=gbr.predict(X_test)\n",
    "\n",
    "df1=pd.DataFrame({'Actual':y_test,'lr':y_pred1,'svm':y_pred2,'rfr':y_pred3,'gbr':y_pred4})"
   ]
  },
  {
   "cell_type": "code",
   "execution_count": null,
   "id": "e669d613",
   "metadata": {},
   "outputs": [],
   "source": [
    "df1"
   ]
  },
  {
   "cell_type": "code",
   "execution_count": null,
   "id": "960205e3",
   "metadata": {},
   "outputs": [],
   "source": [
    "#visualization-"
   ]
  },
  {
   "cell_type": "code",
   "execution_count": null,
   "id": "a673bf6a",
   "metadata": {},
   "outputs": [],
   "source": [
    "import matplotlib.pyplot as plt"
   ]
  },
  {
   "cell_type": "code",
   "execution_count": null,
   "id": "e4b95818",
   "metadata": {},
   "outputs": [],
   "source": [
    "plt.subplot(221)\n",
    "plt.plot(df1['Actual'].iloc[0:11],label='Actual')\n",
    "plt.plot(df1['lr'].iloc[0:11],label=\"lr\")\n",
    "plt.legend()"
   ]
  },
  {
   "cell_type": "code",
   "execution_count": null,
   "id": "1655388e",
   "metadata": {},
   "outputs": [],
   "source": [
    "#compare performance visualization-"
   ]
  },
  {
   "cell_type": "code",
   "execution_count": null,
   "id": "cc9174cd",
   "metadata": {},
   "outputs": [],
   "source": [
    "import matplotlib.pyplot as plt"
   ]
  },
  {
   "cell_type": "code",
   "execution_count": null,
   "id": "552b6e1e",
   "metadata": {},
   "outputs": [],
   "source": [
    "plt.subplot(221)\n",
    "plt.plot(df1['Actual'].iloc[0:11],label='Actual')\n",
    "plt.plot(df1['lr'].iloc[0:11],label=\"lr\")\n",
    "plt.legend()\n",
    "\n",
    "plt.subplot(222)\n",
    "plt.plot(df1['Actual'].iloc[0:11],label='Actual')\n",
    "plt.plot(df1['svm'].iloc[0:11],label=\"svm\")\n",
    "plt.legend()\n",
    "\n",
    "plt.subplot(223)\n",
    "plt.plot(df1['Actual'].iloc[0:11],label='Actual')\n",
    "plt.plot(df1['rfr'].iloc[0:11],label=\"rfr\")\n",
    "plt.legend()\n",
    "\n",
    "plt.subplot(224)\n",
    "plt.plot(df1['Actual'].iloc[0:11],label='Actual')\n",
    "plt.plot(df1['gbr'].iloc[0:11],label=\"gbr\")\n",
    "\n",
    "plt.tight_layout()\n",
    "\n",
    "plt.legend()"
   ]
  },
  {
   "cell_type": "code",
   "execution_count": null,
   "id": "30dc39c5",
   "metadata": {},
   "outputs": [],
   "source": [
    "#evaluating the algorithm-"
   ]
  },
  {
   "cell_type": "code",
   "execution_count": null,
   "id": "dd969eea",
   "metadata": {},
   "outputs": [],
   "source": [
    "from sklearn import metrics"
   ]
  },
  {
   "cell_type": "code",
   "execution_count": null,
   "id": "00f53ace",
   "metadata": {},
   "outputs": [],
   "source": [
    "score1=metrics.r2_score(y_test,y_pred1)\n",
    "score2=metrics.r2_score(y_test,y_pred2)\n",
    "score3=metrics.r2_score(y_test,y_pred3)\n",
    "score4=metrics.r2_score(y_test,y_pred4)"
   ]
  },
  {
   "cell_type": "code",
   "execution_count": null,
   "id": "aea84656",
   "metadata": {},
   "outputs": [],
   "source": [
    "print(score1,score2,score3,score4)"
   ]
  },
  {
   "cell_type": "code",
   "execution_count": null,
   "id": "d01763f1",
   "metadata": {},
   "outputs": [],
   "source": [
    "s1=metrics.mean_absolute_error(y_test,y_pred1)\n",
    "s2=metrics.mean_absolute_error(y_test,y_pred2)\n",
    "s3=metrics.mean_absolute_error(y_test,y_pred3)\n",
    "s4=metrics.mean_absolute_error(y_test,y_pred4)\n",
    "print(s1,s2,s3,s4)"
   ]
  },
  {
   "cell_type": "code",
   "execution_count": null,
   "id": "6ff78bad",
   "metadata": {},
   "outputs": [],
   "source": [
    "#getting data from new customers-"
   ]
  },
  {
   "cell_type": "code",
   "execution_count": null,
   "id": "3cf30010",
   "metadata": {},
   "outputs": [],
   "source": [
    "data={'age':40,\n",
    "     'sex':0,\n",
    "     'bmi':30.45,\n",
    "     'children':4,\n",
    "     'smoker':0,\n",
    "     'region':3}\n",
    "     \n",
    "df = pd.DataFrame(data,index=[0])\n",
    "df"
   ]
  },
  {
   "cell_type": "code",
   "execution_count": null,
   "id": "2f8f8178",
   "metadata": {},
   "outputs": [],
   "source": [
    "new_pred=gbr.predict(df)\n",
    "print(new_pred)"
   ]
  },
  {
   "cell_type": "code",
   "execution_count": null,
   "id": "283e4ce7",
   "metadata": {},
   "outputs": [],
   "source": [
    "#saving the model-"
   ]
  },
  {
   "cell_type": "code",
   "execution_count": null,
   "id": "7cd23098",
   "metadata": {},
   "outputs": [],
   "source": [
    "gbr=GradientBoostingRegressor()\n",
    "gbr.fit(X,y)"
   ]
  },
  {
   "cell_type": "code",
   "execution_count": null,
   "id": "b5c2479a",
   "metadata": {},
   "outputs": [],
   "source": [
    "import joblib"
   ]
  },
  {
   "cell_type": "code",
   "execution_count": null,
   "id": "4329132f",
   "metadata": {},
   "outputs": [],
   "source": [
    "joblib.dump(gbr,'model_joblib_gbr')"
   ]
  },
  {
   "cell_type": "code",
   "execution_count": null,
   "id": "356fe95a",
   "metadata": {},
   "outputs": [],
   "source": [
    "model=joblib.load('model_joblib_gbr')"
   ]
  },
  {
   "cell_type": "code",
   "execution_count": null,
   "id": "6046e249",
   "metadata": {},
   "outputs": [],
   "source": [
    "model.predict(df)"
   ]
  },
  {
   "cell_type": "code",
   "execution_count": null,
   "id": "3617edb8",
   "metadata": {},
   "outputs": [],
   "source": [
    "#GUI"
   ]
  },
  {
   "cell_type": "code",
   "execution_count": null,
   "id": "9563a5a8",
   "metadata": {},
   "outputs": [],
   "source": [
    "from tkinter import*"
   ]
  },
  {
   "cell_type": "code",
   "execution_count": null,
   "id": "b0a89f56",
   "metadata": {},
   "outputs": [],
   "source": [
    "import joblib"
   ]
  },
  {
   "cell_type": "code",
   "execution_count": null,
   "id": "9e78c2bf",
   "metadata": {},
   "outputs": [],
   "source": [
    "def show_entry():\n",
    "    \n",
    "    p1=float(e1.get())\n",
    "    p2=float(e2.get())\n",
    "    p3=float(e3.get())\n",
    "    p4=float(e4.get())\n",
    "    p5=float(e5.get())\n",
    "    p6=float(e6.get())\n",
    "    \n",
    "    model = joblib.load(model_joblib_gbr)\n",
    "    result = model.predict([[p1,p2,p3,p4,p5,p6]])\n",
    "    \n",
    "    label(master, text=\"Inscurance cost\").grid(row=7)\n",
    "    label(master, text=result).grid(row=8)\n",
    "    \n",
    "\n",
    "master=Tk()\n",
    "master.title(\"Insurance cost Prediction\")\n",
    "label = Label(master,text=\"Insurance Cost Prediction\",bg = \"black\",\n",
    "           fg=\"white\").grid(row=0,columnspan=2)\n",
    "\n",
    "Label(master,text = \"Enter your age\").grid(row=1)\n",
    "Label(master,text = \"Male or Female\").grid(row=2)\n",
    "Label(master,text = \"Enter your BMI value\").grid(row=3)\n",
    "Label(master,text = \"Enter number of childern\").grid(row=4)\n",
    "Label(master,text = \"Smoker yes/no [1/0]\").grid(row=5)\n",
    "Label(master,text = \"Region [1-4]\").grid(row=6)\n",
    "\n",
    "e1=Entry(master)\n",
    "e2=Entry(master)\n",
    "e3=Entry(master)\n",
    "e4=Entry(master)\n",
    "e5=Entry(master)\n",
    "e6=Entry(master)\n",
    "\n",
    "e1.grid(row=1,column=1)\n",
    "e2.grid(row=2,column=1)\n",
    "e3.grid(row=3,column=1)\n",
    "e4.grid(row=4,column=1)\n",
    "e5.grid(row=5,column=1)\n",
    "e6.grid(row=6,column=1)\n",
    "\n",
    "Button(master,text=\"Predict\",command=show_entry).grid()\n",
    "\n",
    "mainloop()"
   ]
  },
  {
   "cell_type": "code",
   "execution_count": null,
   "id": "4bb16b71",
   "metadata": {},
   "outputs": [],
   "source": []
  },
  {
   "cell_type": "code",
   "execution_count": null,
   "id": "743882be",
   "metadata": {},
   "outputs": [],
   "source": []
  }
 ],
 "metadata": {
  "kernelspec": {
   "display_name": "Python 3 (ipykernel)",
   "language": "python",
   "name": "python3"
  },
  "language_info": {
   "codemirror_mode": {
    "name": "ipython",
    "version": 3
   },
   "file_extension": ".py",
   "mimetype": "text/x-python",
   "name": "python",
   "nbconvert_exporter": "python",
   "pygments_lexer": "ipython3",
   "version": "3.9.12"
  }
 },
 "nbformat": 4,
 "nbformat_minor": 5
}
